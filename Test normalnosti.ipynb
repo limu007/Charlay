{
 "metadata": {
  "name": "",
  "signature": "sha256:d1c2c7447029b00442a4c9a60b177bd71adc8f276aaf1ea563da3184163e4d0c"
 },
 "nbformat": 3,
 "nbformat_minor": 0,
 "worksheets": [
  {
   "cells": [
    {
     "cell_type": "markdown",
     "metadata": {},
     "source": [
      "Porovn\u00e1n\u00ed \u0161ikmosti a \u0161pi\u010datosti u Cauchyho, Gaussova a Laplaceova rozd\u011blen\u00ed"
     ]
    },
    {
     "cell_type": "code",
     "collapsed": false,
     "input": [
      "%pylab inline \n",
      "from scipy import stats\n",
      "x=r_[-9:9:.05]\n",
      "samp=stats.cauchy(2).pdf(x)"
     ],
     "language": "python",
     "metadata": {},
     "outputs": [
      {
       "output_type": "stream",
       "stream": "stdout",
       "text": [
        "Populating the interactive namespace from numpy and matplotlib\n"
       ]
      }
     ],
     "prompt_number": 4
    },
    {
     "cell_type": "code",
     "collapsed": false,
     "input": [
      "plot(x,samp)"
     ],
     "language": "python",
     "metadata": {},
     "outputs": [
      {
       "metadata": {},
       "output_type": "pyout",
       "prompt_number": 5,
       "text": [
        "[<matplotlib.lines.Line2D at 0x9a854cc>]"
       ]
      },
      {
       "metadata": {},
       "output_type": "display_data",
       "png": "[encoded data removed]",
       "text": [
        "<matplotlib.figure.Figure at 0x942f68c>"
       ]
      }
     ],
     "prompt_number": 5
    },
    {
     "cell_type": "code",
     "collapsed": false,
     "input": [
      "samp=stats.cauchy(2).rvs(200)\n",
      "hist(samp,r_[-8:8:20j])"
     ],
     "language": "python",
     "metadata": {},
     "outputs": [
      {
       "metadata": {},
       "output_type": "pyout",
       "prompt_number": 6,
       "text": [
        "(array([ 1,  1,  1,  0,  2,  1,  2,  4,  4, 11, 18, 46, 51, 21, 12,  5,  1,\n",
        "        1,  1]),\n",
        " array([-8.        , -7.15789474, -6.31578947, -5.47368421, -4.63157895,\n",
        "       -3.78947368, -2.94736842, -2.10526316, -1.26315789, -0.42105263,\n",
        "        0.42105263,  1.26315789,  2.10526316,  2.94736842,  3.78947368,\n",
        "        4.63157895,  5.47368421,  6.31578947,  7.15789474,  8.        ]),\n",
        " <a list of 19 Patch objects>)"
       ]
      },
      {
       "metadata": {},
       "output_type": "display_data",
       "png": "[encoded data removed]",
       "text": [
        "<matplotlib.figure.Figure at 0x9a4bc0c>"
       ]
      }
     ],
     "prompt_number": 6
    },
    {
     "cell_type": "code",
     "collapsed": false,
     "input": [
      "def smom(samp):\n",
      "    mu=samp.mean()\n",
      "    mom=[pow(samp-mu,i).mean() for i in range(2,5)]\n",
      "    #mu,mom\n",
      "    return mom[1]/pow(mom[0],1.5),mom[2]/mom[0]**2\n",
      "#smom(samp)"
     ],
     "language": "python",
     "metadata": {},
     "outputs": [],
     "prompt_number": 2
    },
    {
     "cell_type": "code",
     "collapsed": false,
     "input": [
      "g1,g2=r_[[smom(stats.cauchy(2).rvs(200)) for i in range(100)]].transpose()\n"
     ],
     "language": "python",
     "metadata": {},
     "outputs": [],
     "prompt_number": 6
    },
    {
     "cell_type": "code",
     "collapsed": false,
     "input": [
      "g1.mean(),g2.mean()"
     ],
     "language": "python",
     "metadata": {},
     "outputs": [
      {
       "metadata": {},
       "output_type": "pyout",
       "prompt_number": 7,
       "text": [
        "(0.094228481575297313, 97.549286221468265)"
       ]
      }
     ],
     "prompt_number": 7
    },
    {
     "cell_type": "code",
     "collapsed": false,
     "input": [
      "hist(g2)"
     ],
     "language": "python",
     "metadata": {},
     "outputs": [
      {
       "metadata": {},
       "output_type": "pyout",
       "prompt_number": 8,
       "text": [
        "(array([ 9, 15, 15, 15, 10,  6,  4,  8,  7, 11]),\n",
        " array([  16.0987814 ,   34.27466252,   52.45054364,   70.62642476,\n",
        "          88.80230587,  106.97818699,  125.15406811,  143.32994923,\n",
        "         161.50583034,  179.68171146,  197.85759258]),\n",
        " <a list of 10 Patch objects>)"
       ]
      },
      {
       "metadata": {},
       "output_type": "display_data",
       "png": "[encoded data removed]",
       "text": [
        "<matplotlib.figure.Figure at 0xb21adcc>"
       ]
      }
     ],
     "prompt_number": 8
    },
    {
     "cell_type": "code",
     "collapsed": false,
     "input": [
      "h1,h2=r_[[smom(stats.norm(2).rvs(200)) for i in range(100)]].transpose()\n",
      "h1.mean(),h2.mean()"
     ],
     "language": "python",
     "metadata": {},
     "outputs": [
      {
       "metadata": {},
       "output_type": "pyout",
       "prompt_number": 9,
       "text": [
        "(-0.019134146029985349, 2.9429799933903062)"
       ]
      }
     ],
     "prompt_number": 9
    },
    {
     "cell_type": "code",
     "collapsed": false,
     "input": [
      "hist(h2)\n",
      "h1.std(),h2.std()"
     ],
     "language": "python",
     "metadata": {},
     "outputs": [
      {
       "metadata": {},
       "output_type": "pyout",
       "prompt_number": 10,
       "text": [
        "(0.16126639013532296, 0.29445339384205649)"
       ]
      },
      {
       "metadata": {},
       "output_type": "display_data",
       "png": "[encoded data removed]",
       "text": [
        "<matplotlib.figure.Figure at 0xa36116c>"
       ]
      }
     ],
     "prompt_number": 10
    },
    {
     "cell_type": "code",
     "collapsed": false,
     "input": [
      "g1.std(),g2.std()"
     ],
     "language": "python",
     "metadata": {},
     "outputs": [
      {
       "metadata": {},
       "output_type": "pyout",
       "prompt_number": 19,
       "text": [
        "(8.8441854436939433, 60.23760287740636)"
       ]
      }
     ],
     "prompt_number": 19
    },
    {
     "cell_type": "code",
     "collapsed": false,
     "input": [
      "h1b,h2b=r_[[smom(stats.norm(2).rvs(50)) for i in range(100)]].transpose()\n",
      "h1b.std(),h2b.std()"
     ],
     "language": "python",
     "metadata": {},
     "outputs": [
      {
       "metadata": {},
       "output_type": "pyout",
       "prompt_number": 22,
       "text": [
        "(0.33430572973709194, 0.59329658283128439)"
       ]
      }
     ],
     "prompt_number": 22
    },
    {
     "cell_type": "code",
     "collapsed": false,
     "input": [
      "h1b,h2b=r_[[smom(random.laplace(5,sqrt(2),100)) for i in range(100)]].transpose()"
     ],
     "language": "python",
     "metadata": {},
     "outputs": [],
     "prompt_number": 12
    },
    {
     "cell_type": "code",
     "collapsed": false,
     "input": [
      "h1b.mean(),h2b.mean(),h1b.std(),h2b.std()"
     ],
     "language": "python",
     "metadata": {},
     "outputs": [
      {
       "metadata": {},
       "output_type": "pyout",
       "prompt_number": 13,
       "text": [
        "(0.023613473727078969,\n",
        " 5.4623183651165697,\n",
        " 0.65506894852376663,\n",
        " 2.2817041060572101)"
       ]
      }
     ],
     "prompt_number": 13
    },
    {
     "cell_type": "code",
     "collapsed": false,
     "input": [
      "hist(h2b)\n",
      "import extra\n",
      "z2b=extra.clipped(h2b)"
     ],
     "language": "python",
     "metadata": {},
     "outputs": [
      {
       "metadata": {},
       "output_type": "display_data",
       "png": "[encoded data removed]",
       "text": [
        "<matplotlib.figure.Figure at 0xb4eaf8c>"
       ]
      }
     ],
     "prompt_number": 17
    },
    {
     "cell_type": "code",
     "collapsed": false,
     "input": [
      "h2b[z2b].mean(),h2b[z2b].std()"
     ],
     "language": "python",
     "metadata": {},
     "outputs": [
      {
       "metadata": {},
       "output_type": "pyout",
       "prompt_number": 19,
       "text": [
        "(5.1812397050382524, 1.6289088921292469)"
       ]
      }
     ],
     "prompt_number": 19
    }
   ],
   "metadata": {}
  }
 ]
}