{
 "metadata": {
  "name": "",
  "signature": "sha256:d11787c89cb7b1fa0f13f635491402e301f40886be9a6628538dacd5a5474bd5"
 },
 "nbformat": 3,
 "nbformat_minor": 0,
 "worksheets": [
  {
   "cells": [
    {
     "cell_type": "markdown",
     "metadata": {},
     "source": [
      "Rozcestn\u00edk\n",
      "================\n",
      "\n",
      "### Matematick\u00e9 metody zpracov\u00e1n\u00ed m\u011b\u0159en\u00ed (MMZM)\n",
      "\n",
      "- p\u0159\u00edklad na optim\u00e1ln\u00ed [kombinov\u00e1n\u00ed v\u00fdsledk\u016f](/notebooks/Kombinace.ipynb) (s norm. rozd\u011blen\u00edm)\n",
      "- manipulace NP - p\u0159\u00edklad na [sou\u010din](/notebooks/NP manipulace.ipynb) a [d\u011blen\u00ed](NP manipulace - deleni.ipynb)\n",
      "- \n"
     ]
    },
    {
     "cell_type": "markdown",
     "metadata": {},
     "source": [
      "konfiden\u010dn\u00ed p\u00e1s pro polynomi\u00e1ln\u00ed fit - [line\u00e1rn\u00ed](Polynomy-rev2.ipynb) + vliv system. chyby "
     ]
    },
    {
     "cell_type": "markdown",
     "metadata": {},
     "source": [
      "- simulace = [cent. limitn\u00ed v\u011bta](Normal. limita.ipynb) pro rovnom\u011brn\u00e9 a expon. rozd\u011blen\u00ed + rozd\u011blen\u00ed maxim. hodnoty souboru\n",
      "- odhadov\u00e1n\u00ed norm\u00e1lnosti"
     ]
    },
    {
     "cell_type": "markdown",
     "metadata": {},
     "source": [
      "#### Testov\u00e1n\u00ed hypot\u00e9z\n",
      "\n",
      "- porovn\u00e1n\u00ed [vzork\u016f](/notebooks/Hypothese.ipynb), spolehlivost a s\u00edla testu\n",
      "- testov\u00e1n\u00ed pomoc\u00ed [histogramu](/notebooks/Testovani - optimalni testy.ipynb), Neyman-Pearson, ..."
     ]
    },
    {
     "cell_type": "markdown",
     "metadata": {},
     "source": [
      "### Pl\u00e1nov\u00e1n\u00ed a vyhodnocen\u00ed experimentu (PVX)\n",
      "\n",
      "- ur\u010den\u00ed [konfiden\u010dn\u00edho p\u00e1su](/notebooks/Pas%20spolehlivosti.ipynb) pro poissionovsk\u00e1 \u010di jin\u00e1 zdola omezen\u00e1 data\n",
      "- odhadov\u00e1n\u00ed [hustoty](/notebooks/Odhady%20hustoty.ipynb) (histogramy, _kernel density estimator_ a _k nearest neighbour_) \n",
      "- aplikace na rozd\u011blen\u00ed [parametr\u016f fitu](KDE - fitov\u00e1n\u00ed.ipynb) (nedokon\u010deno)"
     ]
    },
    {
     "cell_type": "markdown",
     "metadata": {},
     "source": [
      "#### Roz\u0161\u00ed\u0159en\u00e1 t\u00e9mata\n",
      "\n",
      "- anal\u00fdza \u010dasov\u00fdch \u0159ad pomoc\u00ed [Fourierovy transformace](/notebooks/Fourier.ipynb), nerovnom\u011brn\u00e9 vzorkov\u00e1n\u00ed (Lomb-Scargle)\n",
      "\n",
      "hled\u00e1n\u00ed periody (a vy\u0161\u0161\u00edch harmonick\u00fdch) v [za\u0161um\u011bn\u00e9m sign\u00e1lu](/notebooks/Prakt/Interference FP4.ipynb) ev. s prom\u011bnnou periodou (Iskla)"
     ]
    },
    {
     "cell_type": "markdown",
     "metadata": {},
     "source": [
      "### Praktika\n",
      "\n",
      "- [Brown\u016fv pohyb](/notebooks/Prakt/Brown.ipynb) - odstra\u0148ov\u00e1n\u00ed vybo\u010duj\u00edc\u00edch hodnot\n",
      "- anal\u00fdza [Cauchyho disperzn\u00ed relace](/notebooks/Prakt/Cauchy.ipynb) a diskuse konfiden\u010dn\u00edho p\u00e1su"
     ]
    },
    {
     "cell_type": "markdown",
     "metadata": {},
     "source": [
      "Zdroje jinde\n",
      "--------------\n",
      "\n",
      "### Sebastian Raschka\n",
      "\n",
      "[principal component analysis](http://sebastianraschka.com/IPython_htmls/principal_component_analysis.html) \n",
      "[Parzen density](http://sebastianraschka.com/Articles/2014_parzen_density_est.html)\n",
      "[Maximal likelihood](http://sebastianraschka.com/IPython_htmls/max_likelihood_est_distributions.html)\n",
      "\n",
      "\n",
      "### Davidson-Pilon\n",
      "\n",
      "[aplikace PyMC](https://github.com/CamDavidsonPilon/Probabilistic-Programming-and-Bayesian-Methods-for-Hackers/blob/master/README.md) pro Bayesovskou anal\u00fdzu"
     ]
    },
    {
     "cell_type": "code",
     "collapsed": false,
     "input": [
      "import prettytable\n"
     ],
     "language": "python",
     "metadata": {},
     "outputs": []
    }
   ],
   "metadata": {}
  }
 ]
}