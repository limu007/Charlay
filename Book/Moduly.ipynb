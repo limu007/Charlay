{
 "cells": [
  {
   "cell_type": "markdown",
   "metadata": {},
   "source": [
    "importování\n",
    "-----------\n",
    "\n",
    "aliasy\n",
    "lze importovat jen jednu tridu/funkci/promennou"
   ]
  },
  {
   "cell_type": "code",
   "execution_count": 13,
   "metadata": {
    "collapsed": false
   },
   "outputs": [
    {
     "data": {
      "text/plain": [
       "False"
      ]
     },
     "execution_count": 13,
     "metadata": {},
     "output_type": "execute_result"
    }
   ],
   "source": [
    "from os import path\n",
    "path.exists(\"input\")"
   ]
  },
  {
   "cell_type": "markdown",
   "metadata": {},
   "source": [
    "lze naimportovat jednotlive funkce"
   ]
  },
  {
   "cell_type": "code",
   "execution_count": 5,
   "metadata": {
    "collapsed": true
   },
   "outputs": [],
   "source": [
    "from os.path import exists"
   ]
  },
  {
   "cell_type": "code",
   "execution_count": 7,
   "metadata": {
    "collapsed": false
   },
   "outputs": [
    {
     "data": {
      "text/plain": [
       "['/usr/lib64/python2.7/site-packages/gtk-2.0',\n",
       " '/usr/lib64/python2.7/site-packages/wx-2.8-gtk2-unicode',\n",
       " '/usr/lib/python2.7/site-packages',\n",
       " '/usr/lib/python2.7/site-packages/IPython/extensions',\n",
       " '/home/limu/.ipython']"
      ]
     },
     "execution_count": 7,
     "metadata": {},
     "output_type": "execute_result"
    }
   ],
   "source": [
    "from sys import path\n",
    "path[-5:]"
   ]
  },
  {
   "cell_type": "code",
   "execution_count": 9,
   "metadata": {
    "collapsed": false
   },
   "outputs": [
    {
     "data": {
      "text/plain": [
       "False"
      ]
     },
     "execution_count": 9,
     "metadata": {},
     "output_type": "execute_result"
    }
   ],
   "source": [
    "from math import pi\n",
    "import numpy as np\n",
    "pi is np.pi"
   ]
  },
  {
   "cell_type": "markdown",
   "metadata": {},
   "source": [
    "`from xy import *` - \"jmenné znečistění\"  \n",
    "\n",
    "lze importovat uvnitř funkcí/tříd, ale ne *"
   ]
  },
  {
   "cell_type": "code",
   "execution_count": null,
   "metadata": {
    "collapsed": true
   },
   "outputs": [],
   "source": [
    "## !! nedoporucovano\n",
    "from matplotlib.pyplot import *"
   ]
  },
  {
   "cell_type": "code",
   "execution_count": 1,
   "metadata": {
    "collapsed": false
   },
   "outputs": [
    {
     "ename": "AttributeError",
     "evalue": "'module' object has no attribute '__dir__'",
     "output_type": "error",
     "traceback": [
      "\u001b[1;31m---------------------------------------------------------------------------\u001b[0m",
      "\u001b[1;31mAttributeError\u001b[0m                            Traceback (most recent call last)",
      "\u001b[1;32m<ipython-input-1-d0d68af8e292>\u001b[0m in \u001b[0;36m<module>\u001b[1;34m()\u001b[0m\n\u001b[0;32m      1\u001b[0m \u001b[1;32mimport\u001b[0m \u001b[0mnumpy\u001b[0m \u001b[1;32mas\u001b[0m \u001b[0mnp\u001b[0m\u001b[1;33m\u001b[0m\u001b[0m\n\u001b[0;32m      2\u001b[0m \u001b[1;32mimport\u001b[0m \u001b[0mmatplotlib\u001b[0m\u001b[1;33m.\u001b[0m\u001b[0mpyplot\u001b[0m \u001b[1;32mas\u001b[0m \u001b[0mpl\u001b[0m\u001b[1;33m\u001b[0m\u001b[0m\n\u001b[1;32m----> 3\u001b[1;33m \u001b[0mlen\u001b[0m\u001b[1;33m(\u001b[0m\u001b[0mnp\u001b[0m\u001b[1;33m.\u001b[0m\u001b[0m__dir__\u001b[0m\u001b[1;33m(\u001b[0m\u001b[1;33m)\u001b[0m\u001b[1;33m)\u001b[0m\u001b[1;33m\u001b[0m\u001b[0m\n\u001b[0m",
      "\u001b[1;31mAttributeError\u001b[0m: 'module' object has no attribute '__dir__'"
     ]
    }
   ],
   "source": [
    "import numpy as np\n",
    "import matplotlib.pyplot as pl\n",
    "len(np.__dir__())"
   ]
  },
  {
   "cell_type": "code",
   "execution_count": 35,
   "metadata": {
    "collapsed": false,
    "run_control": {
     "marked": false
    }
   },
   "outputs": [
    {
     "name": "stdout",
     "output_type": "stream",
     "text": [
      "('1.8.2', '/usr/lib64/python2.7/site-packages/numpy/__init__.pyc')\n",
      "\n",
      "NumPy\n",
      "=====\n",
      "\n",
      "Provides\n",
      "  1. An array object of arbitrary homogeneous items\n",
      "  2. Fast mathematical operations over arrays\n",
      "  3. Linear Algebra, Fourier Transforms, Random Number Generation\n",
      "\n",
      "How to use the documentation\n",
      "----------------------------\n",
      "Documentation is available in two forms: docstrings provided\n",
      "with the code, and a loose standing reference guide, available from\n",
      "`the NumPy homepage <http://www.scipy.org>`_.\n",
      "\n",
      "We recommend exploring the docstrings using\n",
      "`IPython <http://ipython.scipy.org>`_, an advanced Python shell with\n",
      "TAB-completion and introspection capabilities.  See below for further\n",
      "instructions.\n",
      "\n",
      "The docstring examples assume that `numpy` has been imported as `np`::\n",
      "\n",
      "  >>> import numpy as np\n",
      "\n",
      "Code snippets are indicated by three greater-than signs::\n",
      "\n",
      "  >>> x = 42\n",
      "  >>> x = x + 1\n",
      "\n",
      "Use the built-in ``help`` function to view a function's docstring::\n",
      "\n",
      "  >>> help(np.sort)\n",
      "  ... # doctest: +SKIP\n",
      "\n",
      "For some objects, ``np.info(obj)`` may provide additional help.  This is\n",
      "particu...\n"
     ]
    }
   ],
   "source": [
    "# co se hodi\n",
    "print(np.__version__, np.__file__)\n",
    "print(np.__doc__[:1000]+\"...\")"
   ]
  },
  {
   "cell_type": "code",
   "execution_count": 34,
   "metadata": {
    "collapsed": false
   },
   "outputs": [
    {
     "data": {
      "text/plain": [
       "593"
      ]
     },
     "execution_count": 34,
     "metadata": {},
     "output_type": "execute_result"
    }
   ],
   "source": [
    "len(np.__all__)#,len(pl.__all__)"
   ]
  },
  {
   "cell_type": "markdown",
   "metadata": {},
   "source": [
    "### aktualizace\n",
    "\n",
    "`from imp import reload`\n",
    "\n",
    " - hlubsi urovne nutne \"reloadnout\" ručně (nebo **dreload** aka \"deep reload\")\n",
    " - nutno znovu vytvořit objekty z dotčených tříd"
   ]
  },
  {
   "cell_type": "code",
   "execution_count": 2,
   "metadata": {
    "collapsed": false
   },
   "outputs": [
    {
     "data": {
      "text/plain": [
       "<module 'numpy' from '/usr/lib64/python2.7/site-packages/numpy/__init__.pyc'>"
      ]
     },
     "execution_count": 2,
     "metadata": {},
     "output_type": "execute_result"
    }
   ],
   "source": [
    "from imp import reload\n",
    "reload(np)"
   ]
  },
  {
   "cell_type": "code",
   "execution_count": 3,
   "metadata": {
    "collapsed": false
   },
   "outputs": [
    {
     "name": "stdout",
     "output_type": "stream",
     "text": [
      "Reloading __future__\n",
      "Reloading numpy\n",
      "Reloading numpy.__config__\n",
      "Reloading numpy.version\n",
      "Reloading numpy._import_tools\n",
      "Reloading os\n",
      "Reloading errno\n",
      "Reloading posix\n",
      "Reloading posixpath\n",
      "Reloading stat\n",
      "Reloading genericpath\n",
      "Reloading warnings\n",
      "Reloading linecache\n",
      "Reloading types\n",
      "Reloading _warnings\n",
      "Reloading UserDict\n",
      "Reloading _abcoll\n",
      "Reloading abc\n",
      "Reloading _weakrefset\n",
      "Reloading _weakref\n",
      "Reloading copy_reg\n",
      "Reloading numpy.testing\n",
      "Reloading unittest\n",
      "Reloading unittest.result\n",
      "Reloading unittest.os\n",
      "Reloading unittest.sys\n",
      "Reloading unittest.traceback\n",
      "Reloading traceback\n",
      "Reloading unittest.StringIO\n",
      "Reloading StringIO\n",
      "Reloading unittest.functools\n",
      "Reloading functools\n",
      "Reloading _functools\n",
      "Reloading unittest.case\n",
      "Reloading unittest.collections\n",
      "Reloading collections\n",
      "Reloading _collections\n",
      "Reloading operator\n",
      "Reloading keyword\n",
      "Reloading heapq\n",
      "Reloading itertools\n",
      "Reloading _heapq\n",
      "Reloading thread\n",
      "Reloading unittest.difflib\n",
      "Reloading difflib\n",
      "Reloading re\n",
      "Reloading sre_compile\n",
      "Reloading _sre\n",
      "Reloading sre_parse\n",
      "Reloading sre_constants\n",
      "Reloading unittest.pprint\n",
      "Reloading pprint\n",
      "Reloading cStringIO\n",
      "Reloading unittest.re\n",
      "Reloading unittest.types\n",
      "Reloading unittest.warnings\n",
      "Reloading unittest.util\n",
      "Reloading unittest.suite\n",
      "Reloading unittest.loader\n",
      "Reloading unittest.fnmatch\n",
      "Reloading fnmatch\n",
      "Reloading unittest.main\n",
      "Reloading unittest.signals\n",
      "Reloading unittest.signal\n",
      "Reloading signal\n",
      "Reloading unittest.weakref\n",
      "Reloading weakref\n",
      "Reloading exceptions\n",
      "Reloading unittest.runner\n",
      "Reloading unittest.time\n",
      "Reloading time\n",
      "Reloading numpy.testing.utils\n",
      "Reloading numpy.testing.nosetester\n",
      "Reloading numpy.compat\n",
      "Reloading numpy.compat._inspect\n",
      "Reloading numpy.compat.py3k\n",
      "Reloading numpy.core\n",
      "Reloading numpy.core.info\n",
      "Reloading numpy.core.numeric\n",
      "Reloading numpy.core.umath\n",
      "Reloading numpy.core.numerictypes\n",
      "Reloading numpy.core.multiarray\n",
      "Reloading cPickle\n",
      "Reloading numpy.core._dotblas\n",
      "Reloading numpy.core.arrayprint\n",
      "Reloading numpy.core.fromnumeric\n",
      "Reloading numpy.core.records\n",
      "Reloading numpy.core.defchararray\n",
      "Reloading numpy.core.memmap\n",
      "Reloading numpy.core.function_base\n",
      "Reloading numpy.core.machar\n",
      "Reloading numpy.core.getlimits\n",
      "Reloading numpy.core.shape_base\n",
      "Reloading numpy.testing.numpytest\n",
      "Reloading numpy.lib\n",
      "Reloading math\n",
      "Reloading numpy.lib.info\n",
      "Reloading numpy.lib.type_check\n",
      "Reloading numpy.lib.ufunclike\n",
      "Reloading numpy.lib.index_tricks\n",
      "Reloading numpy.matrixlib\n",
      "Reloading numpy.matrixlib.defmatrix\n",
      "Reloading numpy.lib.function_base\n",
      "Reloading numpy.lib.twodim_base\n",
      "Reloading numpy.lib._compiled_base\n",
      "Reloading numpy.lib.utils\n",
      "Reloading numpy.lib.stride_tricks\n",
      "Reloading numpy.lib.nanfunctions\n",
      "Reloading numpy.lib.shape_base\n",
      "Reloading numpy.lib.polynomial\n",
      "Reloading numpy.linalg\n",
      "Reloading numpy.linalg.info\n",
      "Reloading numpy.linalg.linalg\n",
      "Reloading numpy.lib.arraysetops\n",
      "Reloading numpy.lib.npyio\n",
      "Reloading numpy.lib._datasource\n",
      "Reloading shutil\n",
      "Reloading pwd\n",
      "Reloading grp\n",
      "Reloading numpy.lib._iotools\n",
      "Reloading future_builtins\n",
      "Reloading numpy.lib.financial\n",
      "Reloading numpy.lib.arrayterator\n",
      "Reloading numpy.lib.arraypad\n"
     ]
    },
    {
     "name": "stderr",
     "output_type": "stream",
     "text": [
      "-c:1: DeprecationWarning: \n",
      "injecting `dreload` in interactive namespace is deprecated, and will be removed in IPython 5.0. \n",
      "Please import `reload` explicitly from `IPython.lib.deepreload`.\n",
      "\n"
     ]
    }
   ],
   "source": [
    "dreload(np)"
   ]
  },
  {
   "cell_type": "markdown",
   "metadata": {},
   "source": [
    "### packages \n",
    "\n",
    "- celé adresáře (jednotlivé soubory jsou podmoduly)\n",
    "- vložení (prázdného) `__init__.py` (od verze 3.3 není nutné?)\n",
    "\n",
    "program -> modul\n",
    "\n",
    "    .. if __name__==\"__main__\":\n",
    "\n",
    "\n",
    "kde se hledají: PYTHONPATH nebo sys.path (lze přidávat za běhu)\n",
    "\n",
    "### hlavičky\n",
    "  - spustitelný (v linuxu?)   \n",
    "      `#!/usr/bin/python` nebo  \n",
    "      `#! /usr/bin/env python`\n",
    "  - *charset* (kódování)  \n",
    "      `# -*- coding: utf-8 -*-`\n",
    "  - *docstring* (co všechno v modulu najdete)"
   ]
  },
  {
   "cell_type": "markdown",
   "metadata": {},
   "source": [
    "### balení\n",
    "   - wheels, predtim eggs (hadí vejce)\n",
    "   - zabalené zdrojáky, instalace pomoci `distutils`\n",
    "\n",
    "  perlička: dynamický import - možno rozhodovat za běhu, co se nahraje, i zcela nová jména"
   ]
  }
 ],
 "metadata": {
  "anaconda-cloud": {},
  "kernelspec": {
   "display_name": "Python 2",
   "language": "python",
   "name": "python2"
  },
  "language_info": {
   "codemirror_mode": {
    "name": "ipython",
    "version": 2
   },
   "file_extension": ".py",
   "mimetype": "text/x-python",
   "name": "python",
   "nbconvert_exporter": "python",
   "pygments_lexer": "ipython2",
   "version": "2.7.8"
  },
  "widgets": {
   "state": {},
   "version": "1.1.1"
  }
 },
 "nbformat": 4,
 "nbformat_minor": 0
}
